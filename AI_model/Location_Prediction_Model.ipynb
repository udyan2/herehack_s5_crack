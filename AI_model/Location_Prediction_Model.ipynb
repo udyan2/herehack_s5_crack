{
  "nbformat": 4,
  "nbformat_minor": 0,
  "metadata": {
    "colab": {
      "provenance": []
    },
    "kernelspec": {
      "name": "python3",
      "display_name": "Python 3"
    },
    "language_info": {
      "name": "python"
    }
  },
  "cells": [
    {
      "cell_type": "code",
      "execution_count": 17,
      "metadata": {
        "id": "u0NZ4MxjHlnt"
      },
      "outputs": [],
      "source": [
        "import numpy as np\n",
        "import matplotlib.pyplot as plt\n",
        "import seaborn as sns\n",
        "import pandas as pd\n",
        "%matplotlib inline"
      ]
    },
    {
      "cell_type": "code",
      "source": [
        "columns = ['Factor1', 'Factor2', 'Factor3', 'Factor4', 'Class_labels'] \n",
        "# Load the data\n",
        "df = pd.read_csv('train_svm.csv')\n",
        "df.head()"
      ],
      "metadata": {
        "colab": {
          "base_uri": "https://localhost:8080/",
          "height": 206
        },
        "id": "CbGjfWQeIyRv",
        "outputId": "c3c46f38-83e2-463c-9e4d-6f79c2ee6baa"
      },
      "execution_count": 18,
      "outputs": [
        {
          "output_type": "execute_result",
          "data": {
            "text/plain": [
              "   Factor1  Factor2  Factor3  Factor4  Class labels\n",
              "0      5.1      3.5      1.4      0.2  Lajpat Nagar\n",
              "1      4.9      3.0      1.4      0.2  Lajpat Nagar\n",
              "2      4.7      3.2      1.3      0.2  Lajpat Nagar\n",
              "3      4.6      3.1      1.5      0.2  Lajpat Nagar\n",
              "4      5.0      3.6      1.4      0.2  Lajpat Nagar"
            ],
            "text/html": [
              "\n",
              "  <div id=\"df-add32447-adca-4e04-8192-df5f66ecfe89\">\n",
              "    <div class=\"colab-df-container\">\n",
              "      <div>\n",
              "<style scoped>\n",
              "    .dataframe tbody tr th:only-of-type {\n",
              "        vertical-align: middle;\n",
              "    }\n",
              "\n",
              "    .dataframe tbody tr th {\n",
              "        vertical-align: top;\n",
              "    }\n",
              "\n",
              "    .dataframe thead th {\n",
              "        text-align: right;\n",
              "    }\n",
              "</style>\n",
              "<table border=\"1\" class=\"dataframe\">\n",
              "  <thead>\n",
              "    <tr style=\"text-align: right;\">\n",
              "      <th></th>\n",
              "      <th>Factor1</th>\n",
              "      <th>Factor2</th>\n",
              "      <th>Factor3</th>\n",
              "      <th>Factor4</th>\n",
              "      <th>Class labels</th>\n",
              "    </tr>\n",
              "  </thead>\n",
              "  <tbody>\n",
              "    <tr>\n",
              "      <th>0</th>\n",
              "      <td>5.1</td>\n",
              "      <td>3.5</td>\n",
              "      <td>1.4</td>\n",
              "      <td>0.2</td>\n",
              "      <td>Lajpat Nagar</td>\n",
              "    </tr>\n",
              "    <tr>\n",
              "      <th>1</th>\n",
              "      <td>4.9</td>\n",
              "      <td>3.0</td>\n",
              "      <td>1.4</td>\n",
              "      <td>0.2</td>\n",
              "      <td>Lajpat Nagar</td>\n",
              "    </tr>\n",
              "    <tr>\n",
              "      <th>2</th>\n",
              "      <td>4.7</td>\n",
              "      <td>3.2</td>\n",
              "      <td>1.3</td>\n",
              "      <td>0.2</td>\n",
              "      <td>Lajpat Nagar</td>\n",
              "    </tr>\n",
              "    <tr>\n",
              "      <th>3</th>\n",
              "      <td>4.6</td>\n",
              "      <td>3.1</td>\n",
              "      <td>1.5</td>\n",
              "      <td>0.2</td>\n",
              "      <td>Lajpat Nagar</td>\n",
              "    </tr>\n",
              "    <tr>\n",
              "      <th>4</th>\n",
              "      <td>5.0</td>\n",
              "      <td>3.6</td>\n",
              "      <td>1.4</td>\n",
              "      <td>0.2</td>\n",
              "      <td>Lajpat Nagar</td>\n",
              "    </tr>\n",
              "  </tbody>\n",
              "</table>\n",
              "</div>\n",
              "      <button class=\"colab-df-convert\" onclick=\"convertToInteractive('df-add32447-adca-4e04-8192-df5f66ecfe89')\"\n",
              "              title=\"Convert this dataframe to an interactive table.\"\n",
              "              style=\"display:none;\">\n",
              "        \n",
              "  <svg xmlns=\"http://www.w3.org/2000/svg\" height=\"24px\"viewBox=\"0 0 24 24\"\n",
              "       width=\"24px\">\n",
              "    <path d=\"M0 0h24v24H0V0z\" fill=\"none\"/>\n",
              "    <path d=\"M18.56 5.44l.94 2.06.94-2.06 2.06-.94-2.06-.94-.94-2.06-.94 2.06-2.06.94zm-11 1L8.5 8.5l.94-2.06 2.06-.94-2.06-.94L8.5 2.5l-.94 2.06-2.06.94zm10 10l.94 2.06.94-2.06 2.06-.94-2.06-.94-.94-2.06-.94 2.06-2.06.94z\"/><path d=\"M17.41 7.96l-1.37-1.37c-.4-.4-.92-.59-1.43-.59-.52 0-1.04.2-1.43.59L10.3 9.45l-7.72 7.72c-.78.78-.78 2.05 0 2.83L4 21.41c.39.39.9.59 1.41.59.51 0 1.02-.2 1.41-.59l7.78-7.78 2.81-2.81c.8-.78.8-2.07 0-2.86zM5.41 20L4 18.59l7.72-7.72 1.47 1.35L5.41 20z\"/>\n",
              "  </svg>\n",
              "      </button>\n",
              "      \n",
              "  <style>\n",
              "    .colab-df-container {\n",
              "      display:flex;\n",
              "      flex-wrap:wrap;\n",
              "      gap: 12px;\n",
              "    }\n",
              "\n",
              "    .colab-df-convert {\n",
              "      background-color: #E8F0FE;\n",
              "      border: none;\n",
              "      border-radius: 50%;\n",
              "      cursor: pointer;\n",
              "      display: none;\n",
              "      fill: #1967D2;\n",
              "      height: 32px;\n",
              "      padding: 0 0 0 0;\n",
              "      width: 32px;\n",
              "    }\n",
              "\n",
              "    .colab-df-convert:hover {\n",
              "      background-color: #E2EBFA;\n",
              "      box-shadow: 0px 1px 2px rgba(60, 64, 67, 0.3), 0px 1px 3px 1px rgba(60, 64, 67, 0.15);\n",
              "      fill: #174EA6;\n",
              "    }\n",
              "\n",
              "    [theme=dark] .colab-df-convert {\n",
              "      background-color: #3B4455;\n",
              "      fill: #D2E3FC;\n",
              "    }\n",
              "\n",
              "    [theme=dark] .colab-df-convert:hover {\n",
              "      background-color: #434B5C;\n",
              "      box-shadow: 0px 1px 3px 1px rgba(0, 0, 0, 0.15);\n",
              "      filter: drop-shadow(0px 1px 2px rgba(0, 0, 0, 0.3));\n",
              "      fill: #FFFFFF;\n",
              "    }\n",
              "  </style>\n",
              "\n",
              "      <script>\n",
              "        const buttonEl =\n",
              "          document.querySelector('#df-add32447-adca-4e04-8192-df5f66ecfe89 button.colab-df-convert');\n",
              "        buttonEl.style.display =\n",
              "          google.colab.kernel.accessAllowed ? 'block' : 'none';\n",
              "\n",
              "        async function convertToInteractive(key) {\n",
              "          const element = document.querySelector('#df-add32447-adca-4e04-8192-df5f66ecfe89');\n",
              "          const dataTable =\n",
              "            await google.colab.kernel.invokeFunction('convertToInteractive',\n",
              "                                                     [key], {});\n",
              "          if (!dataTable) return;\n",
              "\n",
              "          const docLinkHtml = 'Like what you see? Visit the ' +\n",
              "            '<a target=\"_blank\" href=https://colab.research.google.com/notebooks/data_table.ipynb>data table notebook</a>'\n",
              "            + ' to learn more about interactive tables.';\n",
              "          element.innerHTML = '';\n",
              "          dataTable['output_type'] = 'display_data';\n",
              "          await google.colab.output.renderOutput(dataTable, element);\n",
              "          const docLink = document.createElement('div');\n",
              "          docLink.innerHTML = docLinkHtml;\n",
              "          element.appendChild(docLink);\n",
              "        }\n",
              "      </script>\n",
              "    </div>\n",
              "  </div>\n",
              "  "
            ]
          },
          "metadata": {},
          "execution_count": 18
        }
      ]
    },
    {
      "cell_type": "code",
      "source": [
        "# Separate features and target  \n",
        "data = df.values\n",
        "X = data[:,0:4]\n",
        "Y = data[:,4]"
      ],
      "metadata": {
        "id": "pqQHAcfrKxJx"
      },
      "execution_count": 19,
      "outputs": []
    },
    {
      "cell_type": "code",
      "source": [
        "# Calculate average of each features for all classes\n",
        "Y_Data = np.array([np.average(X[:, i][Y==j].astype('float32')) for i in range (X.shape[1]) for j in (np.unique(Y))])\n",
        "Y_Data_reshaped = Y_Data.reshape(4, 3)\n",
        "Y_Data_reshaped = np.swapaxes(Y_Data_reshaped, 0, 1)\n",
        "X_axis = np.arange(len(columns)-1)\n",
        "width = 0.25"
      ],
      "metadata": {
        "id": "xvnsYeFSL0b4"
      },
      "execution_count": 20,
      "outputs": []
    },
    {
      "cell_type": "code",
      "source": [
        "print(Y)\n",
        "\n",
        "# df2=df.dropna().reset_index(drop=True)"
      ],
      "metadata": {
        "colab": {
          "base_uri": "https://localhost:8080/"
        },
        "id": "7G_dUOp_Mr-S",
        "outputId": "a22da6c5-33da-42d2-dbcc-882582533ab4"
      },
      "execution_count": 21,
      "outputs": [
        {
          "output_type": "stream",
          "name": "stdout",
          "text": [
            "['Lajpat Nagar' 'Lajpat Nagar' 'Lajpat Nagar' 'Lajpat Nagar'\n",
            " 'Lajpat Nagar' 'Lajpat Nagar' 'Lajpat Nagar' 'Lajpat Nagar'\n",
            " 'Lajpat Nagar' 'Lajpat Nagar' 'Lajpat Nagar' 'Lajpat Nagar'\n",
            " 'Lajpat Nagar' 'Lajpat Nagar' 'Lajpat Nagar' 'Lajpat Nagar'\n",
            " 'Lajpat Nagar' 'Lajpat Nagar' 'Lajpat Nagar' 'Lajpat Nagar'\n",
            " 'Lajpat Nagar' 'Lajpat Nagar' 'Lajpat Nagar' 'Lajpat Nagar'\n",
            " 'Lajpat Nagar' 'Lajpat Nagar' 'Lajpat Nagar' 'Lajpat Nagar'\n",
            " 'Lajpat Nagar' 'Lajpat Nagar' 'Lajpat Nagar' 'Lajpat Nagar'\n",
            " 'Lajpat Nagar' 'Lajpat Nagar' 'Lajpat Nagar' 'Lajpat Nagar'\n",
            " 'Lajpat Nagar' 'Lajpat Nagar' 'Lajpat Nagar' 'Lajpat Nagar'\n",
            " 'Lajpat Nagar' 'Lajpat Nagar' 'Lajpat Nagar' 'Lajpat Nagar'\n",
            " 'Lajpat Nagar' 'Lajpat Nagar' 'Lajpat Nagar' 'Lajpat Nagar'\n",
            " 'Lajpat Nagar' 'Lajpat Nagar' 'Saket' 'Saket' 'Saket' 'Saket' 'Saket'\n",
            " 'Saket' 'Saket' 'Saket' 'Saket' 'Saket' 'Saket' 'Saket' 'Saket' 'Saket'\n",
            " 'Saket' 'Saket' 'Saket' 'Saket' 'Saket' 'Saket' 'Saket' 'Saket' 'Saket'\n",
            " 'Saket' 'Saket' 'Saket' 'Saket' 'Saket' 'Saket' 'Saket' 'Saket' 'Saket'\n",
            " 'Saket' 'Saket' 'Saket' 'Saket' 'Saket' 'Saket' 'Saket' 'Saket' 'Saket'\n",
            " 'Saket' 'Saket' 'Saket' 'Saket' 'Saket' 'Saket' 'Saket' 'Saket' 'Saket'\n",
            " 'Janpath' 'Janpath' 'Janpath' 'Janpath' 'Janpath' 'Janpath' 'Janpath'\n",
            " 'Janpath' 'Janpath' 'Janpath' 'Janpath' 'Janpath' 'Janpath' 'Janpath'\n",
            " 'Janpath' 'Janpath' 'Janpath' 'Janpath' 'Janpath' 'Janpath' 'Janpath'\n",
            " 'Janpath' 'Janpath' 'Janpath' 'Janpath' 'Janpath' 'Janpath' 'Janpath'\n",
            " 'Janpath' 'Janpath' 'Janpath' 'Janpath' 'Janpath' 'Janpath' 'Janpath'\n",
            " 'Janpath' 'Janpath' 'Janpath' 'Janpath' 'Janpath' 'Janpath' 'Janpath'\n",
            " 'Janpath' 'Janpath' 'Janpath' 'Janpath' 'Janpath' 'Janpath' 'Janpath'\n",
            " 'Janpath']\n"
          ]
        }
      ]
    },
    {
      "cell_type": "code",
      "source": [
        "# Calculate average of each features for all classes\n",
        "Y_Data = np.array([np.average(X[:, i][Y==j].astype('float32')) for i in range (X.shape[1])\n",
        " for j in (np.unique(Y))])\n",
        "Y_Data_reshaped = Y_Data.reshape(4, 3)\n",
        "Y_Data_reshaped = np.swapaxes(Y_Data_reshaped, 0, 1)\n",
        "X_axis = np.arange(len(columns)-1)\n",
        "width = 0.25"
      ],
      "metadata": {
        "id": "Qw7SenZ0MsiR"
      },
      "execution_count": 22,
      "outputs": []
    },
    {
      "cell_type": "code",
      "source": [
        "# Split the data to train and test dataset.\n",
        "from sklearn.model_selection import train_test_split\n",
        "X_train, X_test, y_train, y_test = train_test_split(X, Y, test_size=0.2)"
      ],
      "metadata": {
        "id": "Dt4PZ9KVPEfT"
      },
      "execution_count": 23,
      "outputs": []
    },
    {
      "cell_type": "code",
      "source": [
        "# Support vector machine algorithm\n",
        "from sklearn.svm import SVC\n",
        "svn = SVC()\n",
        "svn.fit(X_train, y_train)"
      ],
      "metadata": {
        "colab": {
          "base_uri": "https://localhost:8080/"
        },
        "id": "gYpoCQpYQBq6",
        "outputId": "6f2cf7aa-a82f-466a-9024-03fb6b33528f"
      },
      "execution_count": 24,
      "outputs": [
        {
          "output_type": "execute_result",
          "data": {
            "text/plain": [
              "SVC()"
            ]
          },
          "metadata": {},
          "execution_count": 24
        }
      ]
    },
    {
      "cell_type": "code",
      "source": [
        "# Predict from the test dataset\n",
        "predictions = svn.predict(X_test)\n",
        "# Calculate the accuracy\n",
        "from sklearn.metrics import accuracy_score\n",
        "accuracy_score(y_test, predictions)"
      ],
      "metadata": {
        "colab": {
          "base_uri": "https://localhost:8080/"
        },
        "id": "b_I3RQRPQWiy",
        "outputId": "b949e642-380c-444e-d829-69452012f894"
      },
      "execution_count": 25,
      "outputs": [
        {
          "output_type": "execute_result",
          "data": {
            "text/plain": [
              "0.9666666666666667"
            ]
          },
          "metadata": {},
          "execution_count": 25
        }
      ]
    },
    {
      "cell_type": "code",
      "source": [
        "from sklearn.metrics import classification_report\n",
        "print(classification_report(y_test, predictions))"
      ],
      "metadata": {
        "id": "sx6ziObqRhtJ",
        "outputId": "b84f2c7a-e7ff-4a65-b021-86a48cb8e5d7",
        "colab": {
          "base_uri": "https://localhost:8080/"
        }
      },
      "execution_count": 26,
      "outputs": [
        {
          "output_type": "stream",
          "name": "stdout",
          "text": [
            "              precision    recall  f1-score   support\n",
            "\n",
            "     Janpath       0.83      1.00      0.91         5\n",
            "Lajpat Nagar       1.00      1.00      1.00        11\n",
            "       Saket       1.00      0.93      0.96        14\n",
            "\n",
            "    accuracy                           0.97        30\n",
            "   macro avg       0.94      0.98      0.96        30\n",
            "weighted avg       0.97      0.97      0.97        30\n",
            "\n"
          ]
        }
      ]
    },
    {
      "cell_type": "code",
      "source": [
        "X_new = np.array([[3, 2, 1, 0.2], [  4.9, 2.2, 3.8, 1.1 ], [  5.3, 2.5, 4.6, 1.9 ]])\n",
        "#Prediction of the species from the input vector\n",
        "prediction = svn.predict(X_new)\n",
        "print(\"Location Prediction: {}\".format(prediction))"
      ],
      "metadata": {
        "id": "LYEu61SA6aTd",
        "outputId": "a9d71083-fa18-43de-e00c-ca375cb37bf8",
        "colab": {
          "base_uri": "https://localhost:8080/"
        }
      },
      "execution_count": 27,
      "outputs": [
        {
          "output_type": "stream",
          "name": "stdout",
          "text": [
            "Location Prediction: ['Lajpat Nagar' 'Saket' 'Janpath']\n"
          ]
        }
      ]
    },
    {
      "cell_type": "code",
      "source": [
        "# Save the model\n",
        "import pickle\n",
        "with open('SVM.pickle', 'wb') as f:\n",
        "    pickle.dump(svn, f)\n",
        "# Load the model\n",
        "with open('SVM.pickle', 'rb') as f:\n",
        "    model = pickle.load(f)\n",
        "model.predict(X_new)"
      ],
      "metadata": {
        "id": "Aj_vpC6K6dqA",
        "outputId": "2503c708-0094-4df9-889d-dc1ebd05ab99",
        "colab": {
          "base_uri": "https://localhost:8080/"
        }
      },
      "execution_count": 28,
      "outputs": [
        {
          "output_type": "execute_result",
          "data": {
            "text/plain": [
              "array(['Lajpat Nagar', 'Saket', 'Janpath'], dtype=object)"
            ]
          },
          "metadata": {},
          "execution_count": 28
        }
      ]
    },
    {
      "cell_type": "code",
      "source": [],
      "metadata": {
        "id": "bUKLbqDR9H-w"
      },
      "execution_count": null,
      "outputs": []
    }
  ]
}